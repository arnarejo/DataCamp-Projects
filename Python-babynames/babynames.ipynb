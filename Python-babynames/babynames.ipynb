{
 "cells": [
  {
   "cell_type": "code",
   "execution_count": 1,
   "metadata": {},
   "outputs": [
    {
     "name": "stdout",
     "output_type": "stream",
     "text": [
      "   year     name   percent  sex\n",
      "0  1880     John  0.081541  boy\n",
      "1  1880  William  0.080511  boy\n",
      "2  1880    James  0.050057  boy\n",
      "3  1880  Charles  0.045167  boy\n",
      "4  1880   George  0.043292  boy\n",
      "5  1880    Frank  0.027380  boy\n",
      "6  1880   Joseph  0.022229  boy\n",
      "7  1880   Thomas  0.021401  boy\n",
      "8  1880    Henry  0.020641  boy\n",
      "9  1880   Robert  0.020404  boy\n"
     ]
    }
   ],
   "source": [
    "# Import modules\n",
    "import pandas as pd\n",
    "\n",
    "# Read names into a dataframe: bnames\n",
    "bnames = pd.read_csv('baby-names.csv')\n",
    "\n",
    "# display top 10 names\n",
    "# print(bnames[0:10])\n",
    "\n"
   ]
  },
  {
   "cell_type": "code",
   "execution_count": null,
   "metadata": {},
   "outputs": [],
   "source": []
  }
 ],
 "metadata": {
  "kernelspec": {
   "display_name": "Python 3",
   "language": "python",
   "name": "python3"
  },
  "language_info": {
   "codemirror_mode": {
    "name": "ipython",
    "version": 3
   },
   "file_extension": ".py",
   "mimetype": "text/x-python",
   "name": "python",
   "nbconvert_exporter": "python",
   "pygments_lexer": "ipython3",
   "version": "3.6.2"
  }
 },
 "nbformat": 4,
 "nbformat_minor": 2
}
